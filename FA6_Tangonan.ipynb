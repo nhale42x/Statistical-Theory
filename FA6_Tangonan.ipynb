{
  "metadata": {
    "kernelspec": {
      "name": "python",
      "display_name": "Python (Pyodide)",
      "language": "python"
    },
    "language_info": {
      "codemirror_mode": {
        "name": "python",
        "version": 3
      },
      "file_extension": ".py",
      "mimetype": "text/x-python",
      "name": "python",
      "nbconvert_exporter": "python",
      "pygments_lexer": "ipython3",
      "version": "3.8"
    }
  },
  "nbformat_minor": 4,
  "nbformat": 4,
  "cells": [
    {
      "cell_type": "code",
      "source": "import numpy as np\n\ngrades = [100] * 9 + [89] * 32 + [79] * 43 + [69] * 21 + [59] * 11 + [49] * 3 + [39] * 1\n\n#Formula\nQ1 = np.percentile(grades, 25)\nQ2 = np.percentile(grades, 50)\nQ3 = np.percentile(grades, 75)\n\nprint(f\"Q1: {Q1}\")\nprint(f\"Q2 (Median): {Q2}\")\nprint(f\"Q3: {Q3}\")",
      "metadata": {
        "trusted": true
      },
      "outputs": [
        {
          "name": "stdout",
          "text": "Q1: 69.0\nQ2 (Median): 79.0\nQ3: 89.0\n",
          "output_type": "stream"
        }
      ],
      "execution_count": 9
    },
    {
      "cell_type": "code",
      "source": "mean_statistics = 78\nstd_dev_statistics = 8.0\n\nmean_algebra = 73\nstd_dev_algebra = 7.6\n\nabsolute_dispersion_statistics = std_dev_statistics\nabsolute_dispersion_algebra = std_dev_algebra\n\n#Formula\ncv_statistics = (std_dev_statistics / mean_statistics) * 100\ncv_algebra = (std_dev_algebra / mean_algebra) * 100\n\nprint(f\"Absolute Dispersion: Statistics = {absolute_dispersion_statistics}, Algebra = {absolute_dispersion_algebra}\")\nprint(f\"Relative Dispersion (CV): Statistics = {cv_statistics:.2f}%, Algebra = {cv_algebra:.2f}%\")\n\ngreater_absolute = \"Statistics\" if absolute_dispersion_statistics > absolute_dispersion_algebra else \"Algebra\"\ngreater_relative = \"Statistics\" if cv_statistics > cv_algebra else \"Algebra\"\n\nprint(f\"Greater Absolute Dispersion: {greater_absolute}\")\nprint(f\"Greater Relative Dispersion: {greater_relative}\")",
      "metadata": {
        "trusted": true
      },
      "outputs": [
        {
          "name": "stdout",
          "text": "Absolute Dispersion: Statistics = 8.0, Algebra = 7.6\nRelative Dispersion (CV): Statistics = 10.26%, Algebra = 10.41%\nGreater Absolute Dispersion: Statistics\nGreater Relative Dispersion: Algebra\n",
          "output_type": "stream"
        }
      ],
      "execution_count": 10
    },
    {
      "cell_type": "code",
      "source": "import numpy as np\n\nscores = np.array([6, 2, 8, 7, 5])\n\n#Formula\nmean = np.mean(scores)\nstd_dev = np.std(scores, ddof=0)\n\nz_scores = (scores - mean) / std_dev\n\nmean_z = np.mean(z_scores)\nstd_dev_z = np.std(z_scores, ddof=0)\n\nprint(f\"Raw Scores: {scores}\")\nprint(f\"Mean of Raw Scores: {mean}\")\nprint(f\"Standard Deviation of Raw Scores: {std_dev}\")\nprint(f\"Z-scores: {z_scores}\")\nprint(f\"Mean of Z-scores: {mean_z}\")\nprint(f\"Standard Deviation of Z-scores: {std_dev_z}\")",
      "metadata": {
        "trusted": true
      },
      "outputs": [
        {
          "name": "stdout",
          "text": "Raw Scores: [6 2 8 7 5]\nMean of Raw Scores: 5.6\nStandard Deviation of Raw Scores: 2.0591260281974\nZ-scores: [ 0.19425717 -1.74831455  1.16554303  0.6799001  -0.29138576]\nMean of Z-scores: 1.7763568394002506e-16\nStandard Deviation of Z-scores: 0.9999999999999999\n",
          "output_type": "stream"
        }
      ],
      "execution_count": 11
    },
    {
      "cell_type": "code",
      "source": "import numpy as np\n\nmasses = np.array([20.48, 35.97, 62.34])\nstd_devs = np.array([0.21, 0.46, 0.54])\n\n#Formula\nmean_sum = np.sum(masses)\nstd_dev_sum = np.sqrt(np.sum(std_devs**2))\n\nprint(f\"Mean of the sum of masses: {mean_sum:.2f} g\")\nprint(f\"Standard deviation of the sum of masses: {std_dev_sum:.2f} g\")",
      "metadata": {
        "trusted": true
      },
      "outputs": [
        {
          "name": "stdout",
          "text": "Mean of the sum of masses: 118.79 g\nStandard deviation of the sum of masses: 0.74 g\n",
          "output_type": "stream"
        }
      ],
      "execution_count": 12
    },
    {
      "cell_type": "code",
      "source": "import itertools\nimport pandas as pd\nimport warnings\nwarnings.filterwarnings(\"ignore\", category=DeprecationWarning)\n\nx = [6, 9, 12, 15, 18]\np = [0.1, 0.2, 0.4, 0.2, 0.1]\n\n\n#Formula\nmu = sum(xi * pi for xi, pi in zip(x, p))\nsigma_squared = sum(((xi - mu) ** 2) * pi for xi, pi in zip(x, p))\nsamples = list(itertools.product(x, repeat=2))\nsample_means = []\nsample_probabilities = []\n\nfor sample in samples:\n    mean_sample = sum(sample) / len(sample)\n    probability = p[x.index(sample[0])] * p[x.index(sample[1])]\n    \n    sample_means.append(mean_sample)\n    sample_probabilities.append(probability)\n\nresults = pd.DataFrame({\n    'Sample': samples,\n    'Mean': sample_means,\n    'Probability': sample_probabilities\n})\n\nprint(f\"Mean (μ): {mu:.2f}\")\nprint(f\"Variance (σ²): {sigma_squared:.2f}\")\nprint(\"\\nSamples, Their Means, and Probabilities:\")\nprint(results)\n",
      "metadata": {
        "trusted": true
      },
      "outputs": [
        {
          "name": "stdout",
          "text": "Mean (μ): 12.00\nVariance (σ²): 10.80\n\nSamples, Their Means, and Probabilities:\n      Sample  Mean  Probability\n0     (6, 6)   6.0         0.01\n1     (6, 9)   7.5         0.02\n2    (6, 12)   9.0         0.04\n3    (6, 15)  10.5         0.02\n4    (6, 18)  12.0         0.01\n5     (9, 6)   7.5         0.02\n6     (9, 9)   9.0         0.04\n7    (9, 12)  10.5         0.08\n8    (9, 15)  12.0         0.04\n9    (9, 18)  13.5         0.02\n10   (12, 6)   9.0         0.04\n11   (12, 9)  10.5         0.08\n12  (12, 12)  12.0         0.16\n13  (12, 15)  13.5         0.08\n14  (12, 18)  15.0         0.04\n15   (15, 6)  10.5         0.02\n16   (15, 9)  12.0         0.04\n17  (15, 12)  13.5         0.08\n18  (15, 15)  15.0         0.04\n19  (15, 18)  16.5         0.02\n20   (18, 6)  12.0         0.01\n21   (18, 9)  13.5         0.02\n22  (18, 12)  15.0         0.04\n23  (18, 15)  16.5         0.02\n24  (18, 18)  18.0         0.01\n",
          "output_type": "stream"
        }
      ],
      "execution_count": 13
    },
    {
      "cell_type": "code",
      "source": "",
      "metadata": {
        "trusted": true
      },
      "outputs": [],
      "execution_count": null
    }
  ]
}