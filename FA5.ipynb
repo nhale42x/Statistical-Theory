{
  "metadata": {
    "kernelspec": {
      "name": "python",
      "display_name": "Python (Pyodide)",
      "language": "python"
    },
    "language_info": {
      "codemirror_mode": {
        "name": "python",
        "version": 3
      },
      "file_extension": ".py",
      "mimetype": "text/x-python",
      "name": "python",
      "nbconvert_exporter": "python",
      "pygments_lexer": "ipython3",
      "version": "3.8"
    }
  },
  "nbformat_minor": 4,
  "nbformat": 4,
  "cells": [
    {
      "cell_type": "code",
      "source": "import itertools\nimport pandas as pd\nimport numpy as np\n\n#Given\npopulation = [9, 12, 15]\nsample_size = 2\n\nsamples = list(itertools.product(population, repeat=sample_size))\n\ndata = []\nfor sample in samples:\n    xbar = np.mean(sample)  # Sample mean\n    data.append({\n        'Sample 1': sample[0],\n        'Sample 2': sample[1],\n        'x̄': xbar\n    })\n\ndf = pd.DataFrame(data)\n\ndf['p(x̄)'] = 1 / len(df)\n\ndf['x̄ * p(x̄)'] = df['x̄'] * df['p(x̄)']\ndf['x̄² * p(x̄)'] = (df['x̄'] ** 2) * df['p(x̄)']\n\ndf_result = df[['Sample 1', 'Sample 2', 'x̄', 'p(x̄)', 'x̄ * p(x̄)', 'x̄² * p(x̄)']]\nprint(df_result)\n\nexpected_value = df['x̄ * p(x̄)'].sum()\nvariance_xbar = df['x̄² * p(x̄)'].sum() - expected_value**2\n\nprint(f\"Expected value of x̄ (E[x̄]) = {expected_value}\")\nprint(f\"Variance of x̄ (Var(x̄)) = {variance_xbar}\")",
      "metadata": {
        "trusted": true
      },
      "outputs": [
        {
          "name": "stdout",
          "text": "   Sample 1  Sample 2    x̄     p(x̄)  x̄ * p(x̄)  x̄² * p(x̄)\n0         9         9   9.0  0.111111    1.000000         9.00\n1         9        12  10.5  0.111111    1.166667        12.25\n2         9        15  12.0  0.111111    1.333333        16.00\n3        12         9  10.5  0.111111    1.166667        12.25\n4        12        12  12.0  0.111111    1.333333        16.00\n5        12        15  13.5  0.111111    1.500000        20.25\n6        15         9  12.0  0.111111    1.333333        16.00\n7        15        12  13.5  0.111111    1.500000        20.25\n8        15        15  15.0  0.111111    1.666667        25.00\nExpected value of x̄ (E[x̄]) = 11.999999999999998\nVariance of x̄ (Var(x̄)) = 3.0000000000000284\n",
          "output_type": "stream"
        }
      ],
      "execution_count": 5
    },
    {
      "cell_type": "code",
      "source": "import itertools\nimport numpy as np\nimport pandas as pd\n\n#Given\npopulation = [3, 7, 11, 15]\nn = 2 \n\n#population mean\npop_mean = np.mean(population)\nprint(f\"(a) Population mean: {pop_mean}\")\n\n#population standard deviation\npop_std = np.std(population, ddof=0)  # Use ddof=0 for population\nprint(f\"(b) Population standard deviation: {pop_std}\")\n\n#possible samples of size 2 with replacement\nsamples = list(itertools.product(population, repeat=n))\n\n#list for sample means\nsample_means = [np.mean(sample) for sample in samples]\n\n#mean of the sampling distribution of sample means\nsampling_mean = np.mean(sample_means)\nprint(f\"(c) Mean of the sampling distribution of means: {sampling_mean}\")\n\n#standard deviation of the sampling distribution of sample means\nsampling_std = np.std(sample_means, ddof=0)  #for population\nprint(f\"(d) Standard deviation of the sampling distribution of means: {sampling_std}\")\n\n#Verify\n\n#Mean of the sampling distribution of means should equal the population mean\nassert np.isclose(sampling_mean, pop_mean), \"Sampling mean does not match population mean\"\nprint(f\"(c) Verified: Sampling mean matches the population mean: {pop_mean}\")\n\n#Standard deviation of sampling distribution of means = population std / sqrt(sample size)\ntheoretical_sampling_std = pop_std / np.sqrt(n)\nassert np.isclose(sampling_std, theoretical_sampling_std), \"Sampling std does not match the theoretical value\"\nprint(f\"(d) Verified: Sampling std matches population std/sqrt(n): {theoretical_sampling_std}\")\n",
      "metadata": {
        "trusted": true
      },
      "outputs": [
        {
          "name": "stdout",
          "text": "(a) Population mean: 9.0\n(b) Population standard deviation: 4.47213595499958\n(c) Mean of the sampling distribution of means: 9.0\n(d) Standard deviation of the sampling distribution of means: 3.1622776601683795\n(c) Verified: Sampling mean matches the population mean: 9.0\n(d) Verified: Sampling std matches population std/sqrt(n): 3.162277660168379\n",
          "output_type": "stream"
        }
      ],
      "execution_count": 7
    },
    {
      "cell_type": "code",
      "source": "from scipy.stats import norm\nimport numpy as np\n\n#Given\np_boy = 0.5\nn = 200 \nmu = n * p_boy\nsigma = np.sqrt(n * p_boy * (1 - p_boy))  #Standard deviation of the binomial distribution\n\n#Probability that less than 40% will be boys\np_a = norm.cdf(0.4 * n, loc=mu, scale=sigma)\nprint(f\"(a) Probability that less than 40% will be boys: {p_a:.4f}\")\n\n#Probability that between 43% and 57% will be girls\n# Since girls = 1 - boys, we compute boys in [43%, 57%]\np_b = norm.cdf(0.57 * n, loc=mu, scale=sigma) - norm.cdf(0.43 * n, loc=mu, scale=sigma)\nprint(f\"(b) Probability that between 43% and 57% will be girls: {p_b:.4f}\")\n\n#Probability that more than 54% will be boys\np_c = 1 - norm.cdf(0.54 * n, loc=mu, scale=sigma)\nprint(f\"(c) Probability that more than 54% will be boys: {p_c:.4f}\")\n",
      "metadata": {
        "trusted": true
      },
      "outputs": [
        {
          "name": "stdout",
          "text": "(a) Probability that less than 40% will be boys: 0.0023\n(b) Probability that between 43% and 57% will be girls: 0.9523\n(c) Probability that more than 54% will be boys: 0.1289\n",
          "output_type": "stream"
        }
      ],
      "execution_count": 9
    },
    {
      "cell_type": "code",
      "source": "import itertools\nimport numpy as np\nimport pandas as pd\n\n#Given\nx_values = [6, 9, 12, 15, 18]\np_x = [0.1, 0.2, 0.4, 0.2, 0.1]\n\n#Calculate the population mean (μ)\npop_mean = np.dot(x_values, p_x)  #Weighted mean = sum(x * p(x))\nprint(f\"Population mean (μ): {pop_mean}\")\n\n#Calculate the population variance (σ²)\npop_variance = np.dot((np.array(x_values) - pop_mean) ** 2, p_x)  #Weighted variance = sum((x - μ)^2 * p(x))\nprint(f\"Population variance (σ²): {pop_variance}\")\n\n#Generate all possible samples of size 2 with replacement\nsamples = list(itertools.product(x_values, repeat=2))\n\n#Calculate sample means and their probabilities\nsample_data = []\nn_samples = len(samples)\n\nfor sample in samples:\n    sample_mean = np.mean(sample)\n    sample_prob = p_x[x_values.index(sample[0])] * p_x[x_values.index(sample[1])]\n    sample_data.append({\n        'Sample 1': sample[0],\n        'Sample 2': sample[1],\n        'Sample Mean (x̄)': sample_mean,\n        'Probability': sample_prob\n    })\n\ndf_samples = pd.DataFrame(sample_data)\n\n#Results\nprint(\"\\nAll Possible Samples of Size 2, Their Means, and Probabilities:\")\nprint(df_samples)\n\n#Summary of population statistics\nprint(f\"\\nPopulation Mean (μ): {pop_mean}\")\nprint(f\"Population Variance (σ²): {pop_variance}\")\n",
      "metadata": {
        "trusted": true
      },
      "outputs": [
        {
          "name": "stdout",
          "text": "Population mean (μ): 12.000000000000002\nPopulation variance (σ²): 10.8\n\nAll Possible Samples of Size 2, Their Means, and Probabilities:\n    Sample 1  Sample 2  Sample Mean (x̄)  Probability\n0          6         6               6.0         0.01\n1          6         9               7.5         0.02\n2          6        12               9.0         0.04\n3          6        15              10.5         0.02\n4          6        18              12.0         0.01\n5          9         6               7.5         0.02\n6          9         9               9.0         0.04\n7          9        12              10.5         0.08\n8          9        15              12.0         0.04\n9          9        18              13.5         0.02\n10        12         6               9.0         0.04\n11        12         9              10.5         0.08\n12        12        12              12.0         0.16\n13        12        15              13.5         0.08\n14        12        18              15.0         0.04\n15        15         6              10.5         0.02\n16        15         9              12.0         0.04\n17        15        12              13.5         0.08\n18        15        15              15.0         0.04\n19        15        18              16.5         0.02\n20        18         6              12.0         0.01\n21        18         9              13.5         0.02\n22        18        12              15.0         0.04\n23        18        15              16.5         0.02\n24        18        18              18.0         0.01\n\nPopulation Mean (μ): 12.000000000000002\nPopulation Variance (σ²): 10.8\n",
          "output_type": "stream"
        }
      ],
      "execution_count": 10
    },
    {
      "cell_type": "code",
      "source": "",
      "metadata": {
        "trusted": true
      },
      "outputs": [],
      "execution_count": null
    }
  ]
}