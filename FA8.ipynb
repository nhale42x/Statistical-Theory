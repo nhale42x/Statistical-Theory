{
  "nbformat": 4,
  "nbformat_minor": 0,
  "metadata": {
    "colab": {
      "provenance": [],
      "authorship_tag": "ABX9TyNpj/Y31w/xHk+VTzizjkk0",
      "include_colab_link": true
    },
    "kernelspec": {
      "name": "ir",
      "display_name": "R"
    },
    "language_info": {
      "name": "R"
    }
  },
  "cells": [
    {
      "cell_type": "markdown",
      "metadata": {
        "id": "view-in-github",
        "colab_type": "text"
      },
      "source": [
        "<a href=\"https://colab.research.google.com/github/nhale42x/Statistical-Theory/blob/main/FA8.ipynb\" target=\"_parent\"><img src=\"https://colab.research.google.com/assets/colab-badge.svg\" alt=\"Open In Colab\"/></a>"
      ]
    },
    {
      "cell_type": "code",
      "source": [
        "\n",
        "if(!require(tidyverse)) install.packages(\"tidyverse\", dependencies=TRUE)\n",
        "if(!require(car)) install.packages(\"car\", dependencies=TRUE)\n",
        "\n",
        "data <- read.csv(\"/content/plantgrowth.csv\")\n",
        "\n",
        "# Inspect the data structure\n",
        "str(data)\n",
        "head(data)\n",
        "\n",
        "# Perform One-Way ANOVA\n",
        "anova_model <- aov(weight ~ group, data = data)\n",
        "anova_summary <- summary(anova_model)\n",
        "\n",
        "# Display ANOVA table\n",
        "print(\"ANOVA Results:\")\n",
        "print(anova_summary)\n",
        "\n",
        "# Check if ANOVA is significant\n",
        "p_value <- anova_summary[[1]][[\"Pr(>F)\"]][1]\n",
        "\n",
        "# Perform Tukey HSD Post-hoc test if ANOVA is significant\n",
        "if (p_value < 0.05) {\n",
        "  tukey_results <- TukeyHSD(anova_model)\n",
        "  print(\"Tukey HSD Results:\")\n",
        "  print(tukey_results)\n",
        "}\n",
        "\n",
        "# Extract F-value, df, and p-value for APA-style report\n",
        "f_value <- anova_summary[[1]]$`F value`[1]\n",
        "df_between <- anova_model$df.residual + anova_model$df[1] - anova_model$df.residual\n",
        "df_within <- anova_model$df.residual\n",
        "p_value <- formatC(anova_summary[[1]]$`Pr(>F)`[1], format = \"f\", digits = 3)\n",
        "\n",
        "# APA-style report\n",
        "report <- paste0(\n",
        "  \"\\nAPA-Style Report:\\n\\n\",\n",
        "  \"A one-way analysis of variance (ANOVA) was conducted to examine the effect of group on plant weight. \",\n",
        "  \"There was a \", ifelse(as.numeric(p_value) < 0.05, \"significant\", \"non-significant\"),\n",
        "  \" effect of group on plant weight, F(\", df_between, \", \", df_within, \") = \",\n",
        "  formatC(f_value, format = \"f\", digits = 2),\n",
        "  \", p = \", p_value, \".\\n\"\n",
        ")\n",
        "\n",
        "# Print APA-style report\n",
        "cat(report)\n",
        "\n",
        "# Add Tukey HSD results to the report if needed\n",
        "if (p_value < 0.05) {\n",
        "  cat(\"\\nPost-hoc comparisons using Tukey's HSD test indicated:\\n\")\n",
        "  print(tukey_results)\n",
        "}\n"
      ],
      "metadata": {
        "colab": {
          "base_uri": "https://localhost:8080/",
          "height": 966
        },
        "id": "q0zlFAK1OS8K",
        "outputId": "4f180a59-7044-4db6-829e-abc384f4e27c"
      },
      "execution_count": 3,
      "outputs": [
        {
          "output_type": "stream",
          "name": "stdout",
          "text": [
            "'data.frame':\t30 obs. of  2 variables:\n",
            " $ weight: num  4.17 5.58 5.18 6.11 4.5 4.61 5.17 4.53 5.33 5.14 ...\n",
            " $ group : chr  \"ctrl\" \"ctrl\" \"ctrl\" \"ctrl\" ...\n"
          ]
        },
        {
          "output_type": "display_data",
          "data": {
            "text/html": [
              "<table class=\"dataframe\">\n",
              "<caption>A data.frame: 6 × 2</caption>\n",
              "<thead>\n",
              "\t<tr><th></th><th scope=col>weight</th><th scope=col>group</th></tr>\n",
              "\t<tr><th></th><th scope=col>&lt;dbl&gt;</th><th scope=col>&lt;chr&gt;</th></tr>\n",
              "</thead>\n",
              "<tbody>\n",
              "\t<tr><th scope=row>1</th><td>4.17</td><td>ctrl</td></tr>\n",
              "\t<tr><th scope=row>2</th><td>5.58</td><td>ctrl</td></tr>\n",
              "\t<tr><th scope=row>3</th><td>5.18</td><td>ctrl</td></tr>\n",
              "\t<tr><th scope=row>4</th><td>6.11</td><td>ctrl</td></tr>\n",
              "\t<tr><th scope=row>5</th><td>4.50</td><td>ctrl</td></tr>\n",
              "\t<tr><th scope=row>6</th><td>4.61</td><td>ctrl</td></tr>\n",
              "</tbody>\n",
              "</table>\n"
            ],
            "text/markdown": "\nA data.frame: 6 × 2\n\n| <!--/--> | weight &lt;dbl&gt; | group &lt;chr&gt; |\n|---|---|---|\n| 1 | 4.17 | ctrl |\n| 2 | 5.58 | ctrl |\n| 3 | 5.18 | ctrl |\n| 4 | 6.11 | ctrl |\n| 5 | 4.50 | ctrl |\n| 6 | 4.61 | ctrl |\n\n",
            "text/latex": "A data.frame: 6 × 2\n\\begin{tabular}{r|ll}\n  & weight & group\\\\\n  & <dbl> & <chr>\\\\\n\\hline\n\t1 & 4.17 & ctrl\\\\\n\t2 & 5.58 & ctrl\\\\\n\t3 & 5.18 & ctrl\\\\\n\t4 & 6.11 & ctrl\\\\\n\t5 & 4.50 & ctrl\\\\\n\t6 & 4.61 & ctrl\\\\\n\\end{tabular}\n",
            "text/plain": [
              "  weight group\n",
              "1 4.17   ctrl \n",
              "2 5.58   ctrl \n",
              "3 5.18   ctrl \n",
              "4 6.11   ctrl \n",
              "5 4.50   ctrl \n",
              "6 4.61   ctrl "
            ]
          },
          "metadata": {}
        },
        {
          "output_type": "stream",
          "name": "stdout",
          "text": [
            "[1] \"ANOVA Results:\"\n",
            "            Df Sum Sq Mean Sq F value Pr(>F)  \n",
            "group        2  3.766  1.8832   4.846 0.0159 *\n",
            "Residuals   27 10.492  0.3886                 \n",
            "---\n",
            "Signif. codes:  0 ‘***’ 0.001 ‘**’ 0.01 ‘*’ 0.05 ‘.’ 0.1 ‘ ’ 1\n",
            "[1] \"Tukey HSD Results:\"\n",
            "  Tukey multiple comparisons of means\n",
            "    95% family-wise confidence level\n",
            "\n",
            "Fit: aov(formula = weight ~ group, data = data)\n",
            "\n",
            "$group\n",
            "            diff        lwr       upr     p adj\n",
            "trt1-ctrl -0.371 -1.0622161 0.3202161 0.3908711\n",
            "trt2-ctrl  0.494 -0.1972161 1.1852161 0.1979960\n",
            "trt2-trt1  0.865  0.1737839 1.5562161 0.0120064\n",
            "\n",
            "\n",
            "APA-Style Report:\n",
            "\n",
            "A one-way analysis of variance (ANOVA) was conducted to examine the effect of group on plant weight. There was a significant effect of group on plant weight, F(27, 27) = 4.85, p = 0.016.\n",
            "\n",
            "Post-hoc comparisons using Tukey's HSD test indicated:\n",
            "  Tukey multiple comparisons of means\n",
            "    95% family-wise confidence level\n",
            "\n",
            "Fit: aov(formula = weight ~ group, data = data)\n",
            "\n",
            "$group\n",
            "            diff        lwr       upr     p adj\n",
            "trt1-ctrl -0.371 -1.0622161 0.3202161 0.3908711\n",
            "trt2-ctrl  0.494 -0.1972161 1.1852161 0.1979960\n",
            "trt2-trt1  0.865  0.1737839 1.5562161 0.0120064\n",
            "\n"
          ]
        }
      ]
    }
  ]
}